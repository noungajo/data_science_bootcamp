{
 "cells": [
  {
   "cell_type": "code",
   "execution_count": 1,
   "id": "b766b4e7",
   "metadata": {},
   "outputs": [],
   "source": [
    "import pandas as pd\n",
    "import numpy as np\n",
    "import matplotlib.pyplot as plt"
   ]
  },
  {
   "cell_type": "code",
   "execution_count": null,
   "id": "3e682022",
   "metadata": {},
   "outputs": [],
   "source": [
    "data = pd.read_csv('resources/Mall_Customers.csv')# information d'un utilisateur:id,genre,age,salaire estimatif,purchased\n",
    "data.head()"
   ]
  },
  {
   "cell_type": "code",
   "execution_count": null,
   "id": "9d1962cf",
   "metadata": {},
   "outputs": [],
   "source": [
    "x = data.iloc[:,[3,4]].values"
   ]
  },
  {
   "cell_type": "markdown",
   "id": "f06c1c43",
   "metadata": {},
   "source": [
    "finding optimal number of clusters using the elbow method"
   ]
  },
  {
   "cell_type": "code",
   "execution_count": null,
   "id": "0bd06116",
   "metadata": {},
   "outputs": [],
   "source": [
    "from sklearn.cluster import KMeans\n",
    "wcss_list = []#initializing the list for the values of wcss\n",
    "#using for loop for iteration from 1 to 10\n",
    "for i in range(1,11):\n",
    "    kmeans = KMeans(n_clusters = i,init = 'k-means++',random_state = 42)\n",
    "    kmeans.fit(x)\n",
    "    wcss_list.append(kmeans.inertia_)\n",
    "mtp.plot(range(1,11),wcss_list)\n",
    "mtp.title('The Elbow Method Graph')\n",
    "mtp.xlabel('Number of clusters(k)')\n",
    "mtp.ylabel('wcss_list')\n",
    "mtp.show( )"
   ]
  },
  {
   "cell_type": "markdown",
   "id": "24ed8da3",
   "metadata": {},
   "source": [
    "training the k means model on a dataset"
   ]
  },
  {
   "cell_type": "code",
   "execution_count": null,
   "id": "6faab168",
   "metadata": {},
   "outputs": [],
   "source": [
    "kmeans = KMeans(n_clusters = 5,init='k-means++',random_state=42)\n",
    "y_predict = kmeans.fit_predict(x)"
   ]
  },
  {
   "cell_type": "markdown",
   "id": "346c2882",
   "metadata": {},
   "source": [
    "visualizing the cluster"
   ]
  },
  {
   "cell_type": "code",
   "execution_count": null,
   "id": "3046061c",
   "metadata": {},
   "outputs": [],
   "source": [
    "mtp.scatter(x[y_predict == 0,0],x[y_predict == 0,1],s=100,c='blue',label ='cluster 1')\n",
    "mtp.scatter(x[y_predict == 1,0],x[y_predict == 1,1],s=100,c='green',label ='cluster 2')\n",
    "mtp.scatter(x[y_predict == 2,0],x[y_predict == 2,1],s=100,c='red',label ='cluster 3')\n",
    "mtp.scatter(x[y_predict == 3,0],x[y_predict == 3,1],s=100,c='cyan',label ='cluster 4')\n",
    "mtp.scatter(x[y_predict == 4,0],x[y_predict == 4,1],s=100,c='magenta',label ='cluster 5')\n",
    "mtp.scatter(kmeans.cluster_centers_[:,0],kmeans.cluster_centers_[:,1],s=300,c'yellow',label='centroid')\n",
    "mtp.title('clusters of customers')\n",
    "mtp.xlabel('annual inome (k$)')\n",
    "mtp.ylabel('spending score (1-100)')\n",
    "mtp.legend()\n",
    "mtp.show()"
   ]
  },
  {
   "cell_type": "code",
   "execution_count": null,
   "id": "702fc01b",
   "metadata": {},
   "outputs": [],
   "source": []
  }
 ],
 "metadata": {
  "kernelspec": {
   "display_name": "Python 3 (ipykernel)",
   "language": "python",
   "name": "python3"
  },
  "language_info": {
   "codemirror_mode": {
    "name": "ipython",
    "version": 3
   },
   "file_extension": ".py",
   "mimetype": "text/x-python",
   "name": "python",
   "nbconvert_exporter": "python",
   "pygments_lexer": "ipython3",
   "version": "3.8.10"
  }
 },
 "nbformat": 4,
 "nbformat_minor": 5
}
